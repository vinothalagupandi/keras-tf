{
  "nbformat": 4,
  "nbformat_minor": 0,
  "metadata": {
    "colab": {
      "provenance": [],
      "gpuType": "T4",
      "authorship_tag": "ABX9TyNi9NEe+gTLWDLg6p+x1hBL",
      "include_colab_link": true
    },
    "kernelspec": {
      "name": "python3",
      "display_name": "Python 3"
    },
    "language_info": {
      "name": "python"
    },
    "accelerator": "GPU"
  },
  "cells": [
    {
      "cell_type": "markdown",
      "metadata": {
        "id": "view-in-github",
        "colab_type": "text"
      },
      "source": [
        "<a href=\"https://colab.research.google.com/github/vinothalagupandi/keras-tf/blob/master/classroom-practice/transfer_learning.ipynb\" target=\"_parent\"><img src=\"https://colab.research.google.com/assets/colab-badge.svg\" alt=\"Open In Colab\"/></a>"
      ]
    },
    {
      "cell_type": "code",
      "source": [
        "!wget --header 'Host: storage.googleapis.com' --user-agent 'Mozilla/5.0 (Windows NT 10.0; Win64; x64; rv:109.0) Gecko/20100101 Firefox/116.0' --header 'Accept: text/html,application/xhtml+xml,application/xml;q=0.9,image/avif,image/webp,*/*;q=0.8' --header 'Accept-Language: en-US,en;q=0.5' --referer 'https://www.kaggle.com/' --header 'Upgrade-Insecure-Requests: 1' --header 'Sec-Fetch-Dest: document' --header 'Sec-Fetch-Mode: navigate' --header 'Sec-Fetch-Site: cross-site' --header 'Sec-Fetch-User: ?1' 'https://storage.googleapis.com/kaggle-competitions-data/kaggle-v2/10338/862042/bundle/archive.zip?GoogleAccessId=web-data@kaggle-161607.iam.gserviceaccount.com&Expires=1707672971&Signature=Y9M82nFK7KOEYvwG3M229IiD7K07YqETpjqOGrDh2MnJcJFCrGiYcDjOx9flDj8Wj72GBI4OqYMyadyn0FvR5kr5YVxe2k%2BONJyE5PkF%2B%2FtuttqaxPD4UxnomYtZL8xuyO6ve%2BiSVO5%2FB4l6HtoUz%2FKXSNbZ%2BRRJFgBHA4jfZe9oxf0VxvR6YtOdGLe3iHv9J%2FlsymZxeS4yGVLSajupcAHtHgo%2F%2B%2FnuPp1OSWMZhym%2BnqVUeJ1ait9DAwv4Fg4cnqUdrpsUuNmCitwaZe97wefu0KLiEoqyGFx3FcWPzyhsu4pl%2F55hZFD2GUMNXMfG%2BD6VOE3F4HvIccgUf1EkxA%3D%3D&response-content-disposition=attachment%3B+filename%3Drsna-pneumonia-detection-challenge.zip' --output-document 'rsna-pneumonia-detection-challenge.zip'"
      ],
      "metadata": {
        "colab": {
          "base_uri": "https://localhost:8080/"
        },
        "id": "L6J0bXMTvQkE",
        "outputId": "e93d1676-a8bd-45f7-8c72-043d180b8147"
      },
      "execution_count": 1,
      "outputs": [
        {
          "output_type": "stream",
          "name": "stdout",
          "text": [
            "--2024-02-08 18:47:44--  https://storage.googleapis.com/kaggle-competitions-data/kaggle-v2/10338/862042/bundle/archive.zip?GoogleAccessId=web-data@kaggle-161607.iam.gserviceaccount.com&Expires=1707672971&Signature=Y9M82nFK7KOEYvwG3M229IiD7K07YqETpjqOGrDh2MnJcJFCrGiYcDjOx9flDj8Wj72GBI4OqYMyadyn0FvR5kr5YVxe2k%2BONJyE5PkF%2B%2FtuttqaxPD4UxnomYtZL8xuyO6ve%2BiSVO5%2FB4l6HtoUz%2FKXSNbZ%2BRRJFgBHA4jfZe9oxf0VxvR6YtOdGLe3iHv9J%2FlsymZxeS4yGVLSajupcAHtHgo%2F%2B%2FnuPp1OSWMZhym%2BnqVUeJ1ait9DAwv4Fg4cnqUdrpsUuNmCitwaZe97wefu0KLiEoqyGFx3FcWPzyhsu4pl%2F55hZFD2GUMNXMfG%2BD6VOE3F4HvIccgUf1EkxA%3D%3D&response-content-disposition=attachment%3B+filename%3Drsna-pneumonia-detection-challenge.zip\n",
            "Resolving storage.googleapis.com (storage.googleapis.com)... 74.125.68.207, 64.233.170.207, 142.251.175.207, ...\n",
            "Connecting to storage.googleapis.com (storage.googleapis.com)|74.125.68.207|:443... connected.\n",
            "HTTP request sent, awaiting response... 200 OK\n",
            "Length: 3932287530 (3.7G) [application/zip]\n",
            "Saving to: ‘rsna-pneumonia-detection-challenge.zip’\n",
            "\n",
            "rsna-pneumonia-dete 100%[===================>]   3.66G  21.5MB/s    in 2m 58s  \n",
            "\n",
            "2024-02-08 18:50:42 (21.0 MB/s) - ‘rsna-pneumonia-detection-challenge.zip’ saved [3932287530/3932287530]\n",
            "\n"
          ]
        }
      ]
    },
    {
      "cell_type": "code",
      "source": [
        "!unzip /content/rsna-pneumonia-detection-challenge.zip"
      ],
      "metadata": {
        "id": "KL7RO2xrur0s"
      },
      "execution_count": null,
      "outputs": []
    },
    {
      "cell_type": "markdown",
      "source": [
        "# Chest X ray train test val data exploration"
      ],
      "metadata": {
        "id": "Tr7ULYYhvrLr"
      }
    },
    {
      "cell_type": "code",
      "source": [
        "\n",
        "import pandas as pd\n",
        "\n",
        "# Read the CSV file into a DataFrame\n",
        "df = pd.read_csv(\"/content/stage_2_train_labels.csv\")\n",
        "\n",
        "# Keep only the \"patientId\" and \"Target\" columns\n",
        "df = df[[\"patientId\", \"Target\"]]\n",
        "\n",
        "# Print the DataFrame\n",
        "print(df.head())\n"
      ],
      "metadata": {
        "colab": {
          "base_uri": "https://localhost:8080/"
        },
        "id": "zrAfM0NOvuk1",
        "outputId": "ef8e6ce6-78a0-495f-ad4a-04f3c56c4d95"
      },
      "execution_count": 3,
      "outputs": [
        {
          "output_type": "stream",
          "name": "stdout",
          "text": [
            "                              patientId  Target\n",
            "0  0004cfab-14fd-4e49-80ba-63a80b6bddd6       0\n",
            "1  00313ee0-9eaa-42f4-b0ab-c148ed3241cd       0\n",
            "2  00322d4d-1c29-4943-afc9-b6754be640eb       0\n",
            "3  003d8fa0-6bf1-40ed-b54c-ac657f8495c5       0\n",
            "4  00436515-870c-4b36-a041-de91049b9ab4       1\n"
          ]
        }
      ]
    },
    {
      "cell_type": "code",
      "source": [
        "\n",
        "df = df.drop_duplicates()\n",
        "df = df[df.notnull().all(axis=1)]\n",
        "print(df.head())\n"
      ],
      "metadata": {
        "colab": {
          "base_uri": "https://localhost:8080/"
        },
        "id": "J_Dcg5LM38z_",
        "outputId": "a5f4a23e-2e5f-48c3-9164-f01b0655235f"
      },
      "execution_count": 4,
      "outputs": [
        {
          "output_type": "stream",
          "name": "stdout",
          "text": [
            "                              patientId  Target\n",
            "0  0004cfab-14fd-4e49-80ba-63a80b6bddd6       0\n",
            "1  00313ee0-9eaa-42f4-b0ab-c148ed3241cd       0\n",
            "2  00322d4d-1c29-4943-afc9-b6754be640eb       0\n",
            "3  003d8fa0-6bf1-40ed-b54c-ac657f8495c5       0\n",
            "4  00436515-870c-4b36-a041-de91049b9ab4       1\n"
          ]
        }
      ]
    },
    {
      "cell_type": "code",
      "source": [
        "\n",
        "import os\n",
        "\n",
        "# Get the path to the train images directory\n",
        "train_images_dir = \"/content/stage_2_train_images\"\n",
        "\n",
        "# List the files in the directory\n",
        "files = os.listdir(train_images_dir)\n",
        "\n",
        "# Print the files\n",
        "print(files[:10])\n"
      ],
      "metadata": {
        "colab": {
          "base_uri": "https://localhost:8080/"
        },
        "id": "a77XaAyL0Mas",
        "outputId": "2bfa9a53-ae72-464c-f590-cd76acf70c51"
      },
      "execution_count": 5,
      "outputs": [
        {
          "output_type": "stream",
          "name": "stdout",
          "text": [
            "['5c5123a8-bbf2-449b-bb41-dde9c1bd5b5f.dcm', '89a40d1f-3e1f-4295-9a4c-4d5a13c5af70.dcm', 'fe455399-fd6f-4baa-8b02-cee57eb9986b.dcm', '92e14d7b-842b-4b05-bb5d-4aab98d9acfb.dcm', '3df8778b-822d-4cae-8f94-9fe156c601b7.dcm', 'e81046a7-87bc-43ef-858d-089ceb254bea.dcm', '6797dfe0-ba4e-464c-9644-8c1022b68a25.dcm', '4add9b3e-0e87-4875-902d-2f685166ce01.dcm', 'b697ecb0-3185-4ea6-a460-c5357b452e7a.dcm', '5ec1df7d-cbff-4d09-9ec0-45fb513e8015.dcm']\n"
          ]
        }
      ]
    },
    {
      "cell_type": "code",
      "source": [
        "len(df),len(files)"
      ],
      "metadata": {
        "colab": {
          "base_uri": "https://localhost:8080/"
        },
        "id": "fcafWP674LgZ",
        "outputId": "e02d432b-cee7-4df1-a4d2-586739f164ad"
      },
      "execution_count": 6,
      "outputs": [
        {
          "output_type": "execute_result",
          "data": {
            "text/plain": [
              "(26684, 26684)"
            ]
          },
          "metadata": {},
          "execution_count": 6
        }
      ]
    },
    {
      "cell_type": "code",
      "source": [
        "\"0004cfab-14fd-4e49-80ba-63a80b6bddd6.dcm\" in files"
      ],
      "metadata": {
        "colab": {
          "base_uri": "https://localhost:8080/"
        },
        "id": "s74ey2Gq0xKo",
        "outputId": "0c3a8425-d09f-41b3-c929-f38a9ae3266d"
      },
      "execution_count": 7,
      "outputs": [
        {
          "output_type": "execute_result",
          "data": {
            "text/plain": [
              "True"
            ]
          },
          "metadata": {},
          "execution_count": 7
        }
      ]
    },
    {
      "cell_type": "code",
      "source": [
        "for ids in list(df[\"patientId\"]):\n",
        "  if f\"{ids}.dcm\" not in files:\n",
        "    print(f\"{id} is not heree\")"
      ],
      "metadata": {
        "id": "XmueRHZi07PU"
      },
      "execution_count": 8,
      "outputs": []
    },
    {
      "cell_type": "code",
      "source": [
        "\n",
        "from sklearn.model_selection import train_test_split\n",
        "\n",
        "# Split the DataFrame into train and validation sets\n",
        "train_df, val_df = train_test_split(df, test_size=0.2, random_state=42)\n",
        "# Print the shapes of the train and validation DataFrames\n",
        "print(f\"Train DataFrame shape: {train_df.shape}\")\n",
        "print(f\"Validation DataFrame shape: {val_df.shape}\")\n"
      ],
      "metadata": {
        "colab": {
          "base_uri": "https://localhost:8080/"
        },
        "id": "UCN4iRZq1SMd",
        "outputId": "f0c1f128-df86-4e99-b774-df53a596c1c2"
      },
      "execution_count": 9,
      "outputs": [
        {
          "output_type": "stream",
          "name": "stdout",
          "text": [
            "Train DataFrame shape: (21347, 2)\n",
            "Validation DataFrame shape: (5337, 2)\n"
          ]
        }
      ]
    },
    {
      "cell_type": "code",
      "source": [
        "!pip install pydicom"
      ],
      "metadata": {
        "colab": {
          "base_uri": "https://localhost:8080/"
        },
        "id": "aFvSbvLJ2giS",
        "outputId": "22f836b8-0b6b-416b-d162-3466079543ef"
      },
      "execution_count": 10,
      "outputs": [
        {
          "output_type": "stream",
          "name": "stdout",
          "text": [
            "Collecting pydicom\n",
            "  Downloading pydicom-2.4.4-py3-none-any.whl (1.8 MB)\n",
            "\u001b[2K     \u001b[90m━━━━━━━━━━━━━━━━━━━━━━━━━━━━━━━━━━━━━━━━\u001b[0m \u001b[32m1.8/1.8 MB\u001b[0m \u001b[31m17.5 MB/s\u001b[0m eta \u001b[36m0:00:00\u001b[0m\n",
            "\u001b[?25hInstalling collected packages: pydicom\n",
            "Successfully installed pydicom-2.4.4\n"
          ]
        }
      ]
    },
    {
      "cell_type": "code",
      "source": [
        "!pip install tensorflow_io"
      ],
      "metadata": {
        "colab": {
          "base_uri": "https://localhost:8080/"
        },
        "id": "ikZjnb4DE1U1",
        "outputId": "5a3d6688-30ed-4a2f-f090-b3fc0dfb9ac0"
      },
      "execution_count": 14,
      "outputs": [
        {
          "output_type": "stream",
          "name": "stdout",
          "text": [
            "Collecting tensorflow_io\n",
            "  Downloading tensorflow_io-0.36.0-cp310-cp310-manylinux_2_17_x86_64.manylinux2014_x86_64.whl (49.4 MB)\n",
            "\u001b[2K     \u001b[90m━━━━━━━━━━━━━━━━━━━━━━━━━━━━━━━━━━━━━━━━\u001b[0m \u001b[32m49.4/49.4 MB\u001b[0m \u001b[31m13.7 MB/s\u001b[0m eta \u001b[36m0:00:00\u001b[0m\n",
            "\u001b[?25hRequirement already satisfied: tensorflow-io-gcs-filesystem==0.36.0 in /usr/local/lib/python3.10/dist-packages (from tensorflow_io) (0.36.0)\n",
            "Installing collected packages: tensorflow_io\n",
            "Successfully installed tensorflow_io-0.36.0\n"
          ]
        }
      ]
    },
    {
      "cell_type": "code",
      "source": [
        "\n",
        "import tensorflow as tf\n",
        "import pydicom\n",
        "import tensorflow_io as tfio\n",
        "\n",
        "def read_dicom_image(path,label):\n",
        "    img_raw = tf.io.read_file(path)\n",
        "    image = tfio.image.decode_dicom_image(img_raw, dtype=tf.uint16)\n",
        "    image = tf.squeeze(image, axis=0)\n",
        "    image = tf.image.resize(image, (180, 180))\n",
        "    image = tf.cast(image, tf.float32) / 255.\n",
        "\n",
        "    image = tf.image.grayscale_to_rgb(image,name=None)\n",
        "    label = tf.reshape(label,[1])\n",
        "    label = tf.cast(label,tf.float32)\n",
        "    return image,label\n",
        "\n",
        "def create_dataset(df, image_dir,batch_size):\n",
        "    paths = [os.path.join(image_dir, f\"{id}.dcm\") for id in df[\"patientId\"]]\n",
        "    labels = list(df[\"Target\"].values)\n",
        "    paths=tf.constant(paths)\n",
        "    labels = tf.constant(labels)\n",
        "    dataset = tf.data.Dataset.from_tensor_slices((paths, labels))\n",
        "    dataset = dataset.map(read_dicom_image)\n",
        "    dataset = dataset.batch(batch_size, drop_remainder=True)\n",
        "\n",
        "    return dataset\n",
        "train_images_dir = \"/content/stage_2_train_images\"\n",
        "\n",
        "train_dataset = create_dataset(train_df, train_images_dir,batch_size=32)\n",
        "val_dataset = create_dataset(val_df, train_images_dir,batch_size=32)"
      ],
      "metadata": {
        "id": "kYNhL9Wc1laU"
      },
      "execution_count": 57,
      "outputs": []
    },
    {
      "cell_type": "code",
      "source": [
        "for x,y in train_dataset:\n",
        "  print(y.shape,x.shape)\n",
        "  # print(x.shape,y.shape)\n",
        "  # print(x.numpy(),y.numpy())\n",
        "  break"
      ],
      "metadata": {
        "colab": {
          "base_uri": "https://localhost:8080/"
        },
        "id": "9yfBm3OE45kb",
        "outputId": "32cbe8eb-ee62-4556-a346-a3e8afb0b079"
      },
      "execution_count": 40,
      "outputs": [
        {
          "output_type": "stream",
          "name": "stdout",
          "text": [
            "(32, 1) (32, 224, 224, 3)\n"
          ]
        }
      ]
    },
    {
      "cell_type": "code",
      "source": [
        "import matplotlib.pyplot as plt\n",
        "%matplotlib inline"
      ],
      "metadata": {
        "id": "Hpmz1X1z88tL"
      },
      "execution_count": 22,
      "outputs": []
    },
    {
      "cell_type": "code",
      "source": [
        "\n",
        "import matplotlib.pyplot as plt\n",
        "\n",
        "# Get the first image and label from the train dataset\n",
        "image, label = next(iter(train_dataset))\n",
        "\n",
        "# Print the image shape and label\n",
        "print(f\"Image shape: {image.shape}\")\n",
        "print(f\"Label: {label[0]}\")\n",
        "\n",
        "# Plot the image\n",
        "plt.imshow(image[0])\n",
        "plt.show()\n"
      ],
      "metadata": {
        "colab": {
          "base_uri": "https://localhost:8080/",
          "height": 469
        },
        "id": "0TH5k4kA9OsV",
        "outputId": "8c175e71-f216-44c5-a556-d0dbf5e93bc1"
      },
      "execution_count": 58,
      "outputs": [
        {
          "output_type": "stream",
          "name": "stdout",
          "text": [
            "Image shape: (32, 180, 180, 3)\n",
            "Label: [0.]\n"
          ]
        },
        {
          "output_type": "display_data",
          "data": {
            "text/plain": [
              "<Figure size 640x480 with 1 Axes>"
            ],
            "image/png": "[encoded data removed]"
          },
          "metadata": {}
        }
      ]
    },
    {
      "cell_type": "code",
      "source": [
        "from tensorflow import keras\n",
        "from tensorflow.keras import layers\n"
      ],
      "metadata": {
        "id": "MshpXLE--iiQ"
      },
      "execution_count": 59,
      "outputs": []
    },
    {
      "cell_type": "code",
      "source": [
        "\n",
        "# from tensorflow.keras.applications import ResNet50\n",
        "# # Load the ResNet50 model with pre-trained weights\n",
        "# conv_base = ResNet50(weights=\"imagenet\",include_top=False,input_shape=(224, 224, 3))\n",
        "# conv_base.trainable = False\n",
        "# # Print the model summary\n",
        "# # conv_base.summary()\n"
      ],
      "metadata": {
        "id": "63vsFmpe9xHX"
      },
      "execution_count": 43,
      "outputs": []
    },
    {
      "cell_type": "code",
      "source": [
        "conv_base  = keras.applications.vgg16.VGG16(\n",
        "    weights=\"imagenet\",\n",
        "    include_top=False)\n",
        "conv_base.trainable = False"
      ],
      "metadata": {
        "colab": {
          "base_uri": "https://localhost:8080/"
        },
        "id": "REYfTRxvQuK2",
        "outputId": "b52eb238-de5d-4049-82e1-2363117a4185"
      },
      "execution_count": 48,
      "outputs": [
        {
          "output_type": "stream",
          "name": "stdout",
          "text": [
            "Downloading data from https://storage.googleapis.com/tensorflow/keras-applications/vgg16/vgg16_weights_tf_dim_ordering_tf_kernels_notop.h5\n",
            "58889256/58889256 [==============================] - 3s 0us/step\n"
          ]
        }
      ]
    },
    {
      "cell_type": "code",
      "source": [
        "conv_base.trainable = True\n",
        "print(\"This is the number of trainable weights \"\n",
        "      \"before freezing the conv base:\", len(conv_base.trainable_weights))"
      ],
      "metadata": {
        "colab": {
          "base_uri": "https://localhost:8080/"
        },
        "id": "crh3vqRL-1ua",
        "outputId": "fa39dfcc-d35b-48e8-f7cc-468250155782"
      },
      "execution_count": 49,
      "outputs": [
        {
          "output_type": "stream",
          "name": "stdout",
          "text": [
            "This is the number of trainable weights before freezing the conv base: 26\n"
          ]
        }
      ]
    },
    {
      "cell_type": "code",
      "source": [
        "conv_base.trainable = False\n",
        "print(\"This is the number of trainable weights \"\n",
        "      \"before freezing the conv base:\", len(conv_base.trainable_weights))"
      ],
      "metadata": {
        "colab": {
          "base_uri": "https://localhost:8080/"
        },
        "id": "Tk0BHTfuQ6iG",
        "outputId": "fde1c75e-ac30-40ba-a964-a2cc7796ae54"
      },
      "execution_count": 50,
      "outputs": [
        {
          "output_type": "stream",
          "name": "stdout",
          "text": [
            "This is the number of trainable weights before freezing the conv base: 0\n"
          ]
        }
      ]
    },
    {
      "cell_type": "code",
      "source": [
        "data_augmentation = keras.Sequential(\n",
        "    [\n",
        "        layers.RandomFlip(\"horizontal\"),\n",
        "        layers.RandomRotation(0.1),\n",
        "        layers.RandomZoom(0.2),\n",
        "    ]\n",
        ")"
      ],
      "metadata": {
        "id": "2o4Wxigz-7sf"
      },
      "execution_count": 60,
      "outputs": []
    },
    {
      "cell_type": "code",
      "source": [
        "inputs= keras.Input(shape=(180,180, 3))\n",
        "# x = keras.applications.resnet50.preprocess_input(inputs)\n",
        "x = data_augmentation(inputs)\n",
        "x = keras.applications.vgg16.preprocess_input(x)\n",
        "x = conv_base(x)\n",
        "x = layers.Flatten()(x)\n",
        "x = layers.Dense(256)(x)\n",
        "outputs = layers.Dense(1, activation=\"sigmoid\")(x)\n",
        "model = keras.Model(inputs, outputs)\n"
      ],
      "metadata": {
        "id": "Nh-3ddK83SME"
      },
      "execution_count": 61,
      "outputs": []
    },
    {
      "cell_type": "code",
      "source": [
        "model.compile(loss=\"binary_crossentropy\",\n",
        "              optimizer=\"rmsprop\",\n",
        "              metrics=[\"accuracy\"])"
      ],
      "metadata": {
        "id": "mvwj2whPBRjY"
      },
      "execution_count": 62,
      "outputs": []
    },
    {
      "cell_type": "code",
      "source": [
        "callbacks = [\n",
        "    keras.callbacks.ModelCheckpoint(\n",
        "        filepath=\"rsna_vgg16.keras\",\n",
        "        save_best_only=True,\n",
        "        monitor=\"val_loss\")\n",
        "]\n",
        "history = model.fit(\n",
        "    train_dataset,\n",
        "    epochs=1,\n",
        "    validation_data=val_dataset,\n",
        "    callbacks=callbacks)"
      ],
      "metadata": {
        "id": "sL6-gYEH_Tpy"
      },
      "execution_count": null,
      "outputs": []
    }
  ]
}